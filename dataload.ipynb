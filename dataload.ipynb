{
 "cells": [
  {
   "cell_type": "code",
   "execution_count": 1,
   "metadata": {},
   "outputs": [],
   "source": [
    "import pandas as pd\n",
    "import numpy as np\n",
    "from scipy import stats\n",
    "import matplotlib.pyplot as plt"
   ]
  },
  {
   "cell_type": "code",
   "execution_count": 2,
   "metadata": {},
   "outputs": [
    {
     "name": "stdout",
     "output_type": "stream",
     "text": [
      "(550068, 10)\n",
      "User_ID                         1000001\n",
      "Product_ID                    P00069042\n",
      "Gender                                F\n",
      "Age                                0-17\n",
      "Occupation                           10\n",
      "City_Category                         A\n",
      "Stay_In_Current_City_Years            2\n",
      "Marital_Status                        0\n",
      "Product_Category                      3\n",
      "Purchase                           8370\n",
      "Name: 0, dtype: object\n"
     ]
    }
   ],
   "source": [
    "walmart_df = pd.read_csv(\"walmart.csv\")\n",
    "print(walmart_df.shape)\n",
    "print(walmart_df.iloc[0])"
   ]
  },
  {
   "cell_type": "code",
   "execution_count": 3,
   "metadata": {},
   "outputs": [
    {
     "name": "stdout",
     "output_type": "stream",
     "text": [
      "(37432, 10)\n",
      "index                         0\n",
      "DATE                   06-05-21\n",
      "Months                   Jun-21\n",
      "CUSTOMER     REVATHY LOGANATHAN\n",
      "Style                   MEN5004\n",
      "SKU                MEN5004-KR-L\n",
      "Size                          L\n",
      "PCS                        1.00\n",
      "RATE                     616.56\n",
      "GROSS AMT                617.00\n",
      "Name: 0, dtype: object\n"
     ]
    }
   ],
   "source": [
    "international_df = pd.read_csv(\"Dataset1/International sale Report.csv\")\n",
    "print(international_df.shape)\n",
    "print(international_df.iloc[0])"
   ]
  },
  {
   "cell_type": "code",
   "execution_count": 4,
   "metadata": {},
   "outputs": [
    {
     "name": "stdout",
     "output_type": "stream",
     "text": [
      "(9271, 7)\n",
      "index                     0\n",
      "SKU Code        AN201-RED-L\n",
      "Design No.            AN201\n",
      "Stock                   5.0\n",
      "Category      AN : LEGGINGS\n",
      "Size                      L\n",
      "Color                   Red\n",
      "Name: 0, dtype: object\n"
     ]
    }
   ],
   "source": [
    "national_df = pd.read_csv(\"Dataset1/Sale Report.csv\")\n",
    "print(national_df.shape)\n",
    "print(national_df.iloc[0])"
   ]
  },
  {
   "cell_type": "code",
   "execution_count": 5,
   "metadata": {},
   "outputs": [
    {
     "name": "stdout",
     "output_type": "stream",
     "text": [
      "(1330, 18)\n",
      "index                        0\n",
      "Sku               Os206_3141_S\n",
      "Style Id            Os206_3141\n",
      "Catalog                Moments\n",
      "Category                 Kurta\n",
      "Weight                     0.3\n",
      "TP 1                       538\n",
      "TP 2                    435.78\n",
      "MRP Old                   2178\n",
      "Final MRP Old             2295\n",
      "Ajio MRP                  2295\n",
      "Amazon MRP                2295\n",
      "Amazon FBA MRP            2295\n",
      "Flipkart MRP              2295\n",
      "Limeroad MRP              2295\n",
      "Myntra MRP                2295\n",
      "Paytm MRP                 2295\n",
      "Snapdeal MRP              2295\n",
      "Name: 0, dtype: object\n"
     ]
    }
   ],
   "source": [
    "prices_21_df = pd.read_csv(\"Dataset1/P L March 2021.csv\")\n",
    "print(prices_21_df.shape)\n",
    "print(prices_21_df.iloc[0])"
   ]
  },
  {
   "cell_type": "code",
   "execution_count": 6,
   "metadata": {},
   "outputs": [
    {
     "name": "stdout",
     "output_type": "stream",
     "text": [
      "(1330, 17)\n",
      "index                        0\n",
      "Sku               Os206_3141_S\n",
      "Style Id            Os206_3141\n",
      "Catalog                Moments\n",
      "Category                 Kurta\n",
      "Weight                     0.3\n",
      "TP                         538\n",
      "MRP Old                   2178\n",
      "Final MRP Old             2295\n",
      "Ajio MRP                  2295\n",
      "Amazon MRP                2295\n",
      "Amazon FBA MRP            2295\n",
      "Flipkart MRP              2295\n",
      "Limeroad MRP              2295\n",
      "Myntra MRP                2295\n",
      "Paytm MRP                 2295\n",
      "Snapdeal MRP              2295\n",
      "Name: 0, dtype: object\n"
     ]
    }
   ],
   "source": [
    "prices_22_df = pd.read_csv(\"Dataset1/May-2022.csv\")\n",
    "print(prices_22_df.shape)\n",
    "print(prices_22_df.iloc[0])"
   ]
  },
  {
   "cell_type": "code",
   "execution_count": 7,
   "metadata": {},
   "outputs": [
    {
     "name": "stderr",
     "output_type": "stream",
     "text": [
      "/var/folders/0h/y7x46tzs4n7_bwqfd9b2c0q00000gn/T/ipykernel_39700/4240943460.py:1: DtypeWarning: Columns (23) have mixed types. Specify dtype option on import or set low_memory=False.\n",
      "  amazon_df = pd.read_csv(\"Dataset1/Amazon sale Report.csv\")\n"
     ]
    },
    {
     "name": "stdout",
     "output_type": "stream",
     "text": [
      "(128975, 24)\n",
      "index                                   0\n",
      "Order ID              405-8078784-5731545\n",
      "Date                             04-30-22\n",
      "Status                          Cancelled\n",
      "Fulfilment                       Merchant\n",
      "Sales Channel                   Amazon.in\n",
      "ship-service-level               Standard\n",
      "Style                              SET389\n",
      "SKU                        SET389-KR-NP-S\n",
      "Category                              Set\n",
      "Size                                    S\n",
      "ASIN                           B09KXVBD7Z\n",
      "Courier Status                        NaN\n",
      "Qty                                     0\n",
      "currency                              INR\n",
      "Amount                             647.62\n",
      "ship-city                          MUMBAI\n",
      "ship-state                    MAHARASHTRA\n",
      "ship-postal-code                 400081.0\n",
      "ship-country                           IN\n",
      "promotion-ids                         NaN\n",
      "B2B                                 False\n",
      "fulfilled-by                    Easy Ship\n",
      "Unnamed: 22                           NaN\n",
      "Name: 0, dtype: object\n",
      "(110537, 22)\n",
      "['Shipped - Delivered to Buyer' 'Shipped' 'Shipped - Returned to Seller'\n",
      " 'Shipped - Rejected by Buyer' 'Shipped - Lost in Transit'\n",
      " 'Shipped - Out for Delivery' 'Shipped - Returning to Seller'\n",
      " 'Shipped - Picked Up' 'Pending' 'Pending - Waiting for Pick Up'\n",
      " 'Shipped - Damaged' 'Shipping']\n",
      "Index(['index', 'Order ID', 'Date', 'Status', 'Fulfilment', 'Sales Channel ',\n",
      "       'ship-service-level', 'Style', 'SKU', 'Category', 'Size', 'ASIN',\n",
      "       'Courier Status', 'Qty', 'currency', 'Amount', 'ship-city',\n",
      "       'ship-state', 'ship-postal-code', 'ship-country', 'B2B',\n",
      "       'fulfilled-by'],\n",
      "      dtype='object')\n"
     ]
    }
   ],
   "source": [
    "amazon_df = pd.read_csv(\"Dataset1/Amazon sale Report.csv\")\n",
    "print(amazon_df.shape)\n",
    "print(amazon_df.iloc[0])\n",
    "\n",
    "# Preprocessing Amazon Data\n",
    "amazon_df = amazon_df[amazon_df['Qty'] > 0]\n",
    "amazon_df = amazon_df[amazon_df['Status'] != 'Cancelled']\n",
    "amazon_df = amazon_df.drop(['promotion-ids', 'Unnamed: 22'], axis=1)\n",
    "print(amazon_df.shape)\n",
    "print(amazon_df['Status'].unique())\n",
    "\n",
    "print(amazon_df.columns)\n"
   ]
  },
  {
   "cell_type": "code",
   "execution_count": 8,
   "metadata": {},
   "outputs": [],
   "source": [
    "\n",
    "# year_data = [x[-2:] for x in amazon_df['Date']]\n",
    "# # print(list(set(year_data)))\n",
    "\n",
    "# month_data = [x[:2] for x in amazon_df['Date']]\n",
    "# # print(list(set(month_data)))\n",
    "\n",
    "# # Change date to just be the month for easier grouping\n",
    "# amazon_df['Date'] = amazon_df['Date'].apply(lambda x: x[:2])\n",
    "\n",
    "# cols = amazon_df.columns.drop(['Qty', 'Amount'])\n",
    "# column_extraction = amazon_df[cols]\n",
    "\n",
    "# # Aggregate all columns expect quantity by the most common value\n",
    "# agg_dict = {'Qty': 'sum', 'Amount': 'sum'}\n",
    "# for col in column_extraction:\n",
    "#     agg_dict[col] = lambda x: pd.Series.mode(x, dropna=False)[0]\n",
    "# product_grouping = amazon_df.groupby([\"SKU\", \"Date\"]).agg(agg_dict)\n",
    "# product_grouping.sort_values(by=\"Amount\", ascending=False, inplace=True)\n"
   ]
  },
  {
   "cell_type": "code",
   "execution_count": 9,
   "metadata": {},
   "outputs": [],
   "source": [
    "# print(product_grouping.iloc[:10, :2])"
   ]
  },
  {
   "cell_type": "code",
   "execution_count": 10,
   "metadata": {},
   "outputs": [],
   "source": [
    "def classification_accuracy(true_labels, predicted_labels):\n",
    "    num_right = 0\n",
    "    for i in range(len(predicted_labels)):\n",
    "        if true_labels[i] == predicted_labels[i]:\n",
    "            num_right += 1\n",
    "    return num_right / len(predicted_labels)"
   ]
  },
  {
   "cell_type": "code",
   "execution_count": null,
   "metadata": {},
   "outputs": [],
   "source": []
  },
  {
   "cell_type": "code",
   "execution_count": 11,
   "metadata": {},
   "outputs": [],
   "source": [
    "from sklearn.model_selection import train_test_split\n",
    "def generate_train_test(X, y):\n",
    "    X_train, X_test, y_train, y_test = train_test_split(\n",
    "    X, y, test_size=0.2, random_state=42)\n",
    "    return X_train, X_test, y_train, y_test"
   ]
  },
  {
   "cell_type": "code",
   "execution_count": 12,
   "metadata": {},
   "outputs": [],
   "source": [
    "import torch\n",
    "import torch.nn as nn\n",
    "from torch.autograd import Variable\n",
    "from sklearn.preprocessing import LabelEncoder\n"
   ]
  },
  {
   "cell_type": "code",
   "execution_count": 13,
   "metadata": {},
   "outputs": [],
   "source": [
    "# Label Encoding to turn categorical data to numerical data\n",
    "encoders = []\n",
    "def encode_cats(df, categorical_cols):\n",
    "       for col in categorical_cols:\n",
    "              encoder = LabelEncoder()\n",
    "              encoded_categories = encoder.fit_transform(df[col])\n",
    "              df[col] = encoded_categories\n",
    "              encoders.append(encoder)"
   ]
  },
  {
   "cell_type": "code",
   "execution_count": 14,
   "metadata": {},
   "outputs": [
    {
     "name": "stdout",
     "output_type": "stream",
     "text": [
      "Sales Channel     0\n",
      "Category          5\n",
      "Size              7\n",
      "Name: 84353, dtype: int64\n",
      "1\n"
     ]
    }
   ],
   "source": [
    "# categorical_cols = ['Status', 'Fulfilment', 'Sales Channel ',\n",
    "#        'ship-service-level', 'Category', 'Size', 'ASIN',\n",
    "#        'Courier Status', 'ship-city',\n",
    "#        'ship-state', 'ship-postal-code',\n",
    "#        'fulfilled-by', 'B2B']\n",
    "categorical_cols = ['Sales Channel ','Category', 'Size']\n",
    "\n",
    "encode_cats(amazon_df, categorical_cols)\n",
    "\n",
    "# Drop columns without predictive power\n",
    "drop_cols = ['Fulfilment', 'SKU', 'Style', 'Order ID', 'currency', 'ship-postal-code', 'Courier Status']\n",
    "\n",
    "\n",
    "# features = ['Status', 'Fulfilment', 'Sales Channel ', 'ship-service-level', 'Category', 'Size', 'Courier Status', 'ship-city',\n",
    "#             'ship-state', 'fulfilled-by']\n",
    "# features = ['Status', 'Fulfilment', 'Sales Channel ', 'ship-service-level', 'Category', 'Size', 'Courier Status', 'fulfilled-by']\n",
    "features = ['Sales Channel ', 'Category', 'Size']\n",
    "\n",
    "\n",
    "\n",
    "X = amazon_df[features]\n",
    "y = amazon_df['Qty']\n",
    "X_train, X_test, y_train, y_test = generate_train_test(X, y)\n",
    "print(X_train.iloc[0])\n",
    "print(y_train.iloc[0])"
   ]
  },
  {
   "cell_type": "code",
   "execution_count": 15,
   "metadata": {},
   "outputs": [
    {
     "name": "stdout",
     "output_type": "stream",
     "text": [
      "(88429, 3)\n",
      "(88429, 3)\n",
      "                     PC1       PC2       PC3\n",
      "Sales Channel   0.000007  0.000108  1.000000\n",
      "Category        0.012865 -0.999917  0.000108\n",
      "Size           -0.999917 -0.012865  0.000008\n"
     ]
    }
   ],
   "source": [
    "from sklearn.decomposition import PCA\n",
    "def pca_decomp(X_train, X_test, n_components=3):\n",
    "    pca = PCA(n_components)\n",
    "    pca_cols = ['PC' + str(i+1) for i in range(n_components)]\n",
    "    train_principal_components = pca.fit_transform(X_train)\n",
    "    train_pca = pd.DataFrame(data=train_principal_components, columns=pca_cols)\n",
    "\n",
    "    print(train_pca.shape)\n",
    "    print(X_train.shape)\n",
    "\n",
    "    loadings = pca.components_\n",
    "    # print(loadings.shape)\n",
    "\n",
    "    # Higher absolute loading values indicate a large contribution to the principal component\n",
    "    loadings_df = pd.DataFrame(loadings.T, columns=pca_cols, index=X_train.columns)\n",
    "    print(loadings_df)\n",
    "\n",
    "\n",
    "    # Transform test data to the principal component space\n",
    "    test_principal_components = pca.transform(X_test)\n",
    "    test_pca = pd.DataFrame(data=test_principal_components, columns=pca_cols)\n",
    "    return train_pca, test_pca\n",
    "train_pca, test_pca = pca_decomp(X_train, X_test, 3)\n"
   ]
  },
  {
   "cell_type": "code",
   "execution_count": 16,
   "metadata": {},
   "outputs": [],
   "source": [
    "# Convert dataframe to tensor\n",
    "def df_to_tensor(df, dtype):\n",
    "    array = df.to_numpy()\n",
    "    return torch.tensor(array, dtype=dtype)\n"
   ]
  },
  {
   "cell_type": "code",
   "execution_count": 17,
   "metadata": {},
   "outputs": [
    {
     "name": "stdout",
     "output_type": "stream",
     "text": [
      "(88429, 3)\n"
     ]
    }
   ],
   "source": [
    "# Use PCA columns as features to reduce dimensionality\n",
    "# X_train = train_pca\n",
    "# X_test = test_pca\n",
    "\n",
    "X_train_tensor = df_to_tensor(X_train, torch.long)\n",
    "y_train_tensor = df_to_tensor(y_train, torch.float32)\n",
    "X_test_tensor = df_to_tensor(X_test, torch.long)\n",
    "y_test_tensor = df_to_tensor(y_test, torch.float32)\n",
    "print(X_train.shape)"
   ]
  },
  {
   "cell_type": "code",
   "execution_count": 26,
   "metadata": {},
   "outputs": [],
   "source": [
    "# Train the model\n",
    "def train_model(model, dataloader, optimizer, criterion, num_epochs=10):\n",
    "    model.train()\n",
    "    mean_losses = []\n",
    "    for epoch in range(num_epochs):\n",
    "        losses = []\n",
    "        for X, y in dataloader:\n",
    "            optimizer.zero_grad()\n",
    "            outputs = model(X)\n",
    "            loss = criterion(outputs.squeeze(), y)\n",
    "            loss.backward()\n",
    "            optimizer.step()\n",
    "            losses.append(loss.item())\n",
    "        mean_loss = np.mean(losses)\n",
    "        print(f'Epoch {epoch+1}/{num_epochs}, Mean Loss: {mean_loss}')\n",
    "        mean_losses.append(mean_loss)\n",
    "    return mean_losses\n",
    "\n",
    "# Predict on dataset X based on the trained model\n",
    "def predict_values(X, y, model, criterion, type='Test'):\n",
    "    model.eval()\n",
    "    with torch.no_grad():\n",
    "        predictions = model(X)\n",
    "        print(type + \"ing loss: \", criterion(predictions.squeeze(), y))"
   ]
  },
  {
   "cell_type": "code",
   "execution_count": 29,
   "metadata": {},
   "outputs": [
    {
     "name": "stdout",
     "output_type": "stream",
     "text": [
      "Using device: cpu\n"
     ]
    },
    {
     "ename": "KeyboardInterrupt",
     "evalue": "",
     "output_type": "error",
     "traceback": [
      "\u001b[0;31m---------------------------------------------------------------------------\u001b[0m",
      "\u001b[0;31mKeyboardInterrupt\u001b[0m                         Traceback (most recent call last)",
      "Cell \u001b[0;32mIn[29], line 53\u001b[0m\n\u001b[1;32m     50\u001b[0m optimizer \u001b[38;5;241m=\u001b[39m optim\u001b[38;5;241m.\u001b[39mAdam(model\u001b[38;5;241m.\u001b[39mparameters(), lr\u001b[38;5;241m=\u001b[39m\u001b[38;5;241m0.001\u001b[39m)\n\u001b[1;32m     52\u001b[0m \u001b[38;5;66;03m# Train and predict on the dataset\u001b[39;00m\n\u001b[0;32m---> 53\u001b[0m mean_losses \u001b[38;5;241m=\u001b[39m \u001b[43mtrain_model\u001b[49m\u001b[43m(\u001b[49m\u001b[43mmodel\u001b[49m\u001b[43m,\u001b[49m\u001b[43m \u001b[49m\u001b[43mtrain_dataloader\u001b[49m\u001b[43m,\u001b[49m\u001b[43m \u001b[49m\u001b[43moptimizer\u001b[49m\u001b[43m,\u001b[49m\u001b[43m \u001b[49m\u001b[43mcriterion\u001b[49m\u001b[43m,\u001b[49m\u001b[43m \u001b[49m\u001b[38;5;241;43m10\u001b[39;49m\u001b[43m)\u001b[49m\n\u001b[1;32m     54\u001b[0m \u001b[38;5;28mprint\u001b[39m(mean_losses)\n\u001b[1;32m     55\u001b[0m predict_values(X_train, y_train, criterion, \u001b[38;5;124m'\u001b[39m\u001b[38;5;124mTrain\u001b[39m\u001b[38;5;124m'\u001b[39m)\n",
      "Cell \u001b[0;32mIn[26], line 12\u001b[0m, in \u001b[0;36mtrain_model\u001b[0;34m(model, dataloader, optimizer, criterion, num_epochs)\u001b[0m\n\u001b[1;32m     10\u001b[0m     loss \u001b[38;5;241m=\u001b[39m criterion(outputs\u001b[38;5;241m.\u001b[39msqueeze(), y)\n\u001b[1;32m     11\u001b[0m     loss\u001b[38;5;241m.\u001b[39mbackward()\n\u001b[0;32m---> 12\u001b[0m     \u001b[43moptimizer\u001b[49m\u001b[38;5;241;43m.\u001b[39;49m\u001b[43mstep\u001b[49m\u001b[43m(\u001b[49m\u001b[43m)\u001b[49m\n\u001b[1;32m     13\u001b[0m     losses\u001b[38;5;241m.\u001b[39mappend(loss\u001b[38;5;241m.\u001b[39mitem())\n\u001b[1;32m     14\u001b[0m mean_loss \u001b[38;5;241m=\u001b[39m np\u001b[38;5;241m.\u001b[39mmean(losses)\n",
      "File \u001b[0;32m~/.pyenv/versions/3.9.6/lib/python3.9/site-packages/torch/optim/optimizer.py:385\u001b[0m, in \u001b[0;36mOptimizer.profile_hook_step.<locals>.wrapper\u001b[0;34m(*args, **kwargs)\u001b[0m\n\u001b[1;32m    380\u001b[0m         \u001b[38;5;28;01melse\u001b[39;00m:\n\u001b[1;32m    381\u001b[0m             \u001b[38;5;28;01mraise\u001b[39;00m \u001b[38;5;167;01mRuntimeError\u001b[39;00m(\n\u001b[1;32m    382\u001b[0m                 \u001b[38;5;124mf\u001b[39m\u001b[38;5;124m\"\u001b[39m\u001b[38;5;132;01m{\u001b[39;00mfunc\u001b[38;5;132;01m}\u001b[39;00m\u001b[38;5;124m must return None or a tuple of (new_args, new_kwargs), but got \u001b[39m\u001b[38;5;132;01m{\u001b[39;00mresult\u001b[38;5;132;01m}\u001b[39;00m\u001b[38;5;124m.\u001b[39m\u001b[38;5;124m\"\u001b[39m\n\u001b[1;32m    383\u001b[0m             )\n\u001b[0;32m--> 385\u001b[0m out \u001b[38;5;241m=\u001b[39m \u001b[43mfunc\u001b[49m\u001b[43m(\u001b[49m\u001b[38;5;241;43m*\u001b[39;49m\u001b[43margs\u001b[49m\u001b[43m,\u001b[49m\u001b[43m \u001b[49m\u001b[38;5;241;43m*\u001b[39;49m\u001b[38;5;241;43m*\u001b[39;49m\u001b[43mkwargs\u001b[49m\u001b[43m)\u001b[49m\n\u001b[1;32m    386\u001b[0m \u001b[38;5;28mself\u001b[39m\u001b[38;5;241m.\u001b[39m_optimizer_step_code()\n\u001b[1;32m    388\u001b[0m \u001b[38;5;66;03m# call optimizer step post hooks\u001b[39;00m\n",
      "File \u001b[0;32m~/.pyenv/versions/3.9.6/lib/python3.9/site-packages/torch/optim/optimizer.py:76\u001b[0m, in \u001b[0;36m_use_grad_for_differentiable.<locals>._use_grad\u001b[0;34m(self, *args, **kwargs)\u001b[0m\n\u001b[1;32m     74\u001b[0m     torch\u001b[38;5;241m.\u001b[39mset_grad_enabled(\u001b[38;5;28mself\u001b[39m\u001b[38;5;241m.\u001b[39mdefaults[\u001b[38;5;124m'\u001b[39m\u001b[38;5;124mdifferentiable\u001b[39m\u001b[38;5;124m'\u001b[39m])\n\u001b[1;32m     75\u001b[0m     torch\u001b[38;5;241m.\u001b[39m_dynamo\u001b[38;5;241m.\u001b[39mgraph_break()\n\u001b[0;32m---> 76\u001b[0m     ret \u001b[38;5;241m=\u001b[39m \u001b[43mfunc\u001b[49m\u001b[43m(\u001b[49m\u001b[38;5;28;43mself\u001b[39;49m\u001b[43m,\u001b[49m\u001b[43m \u001b[49m\u001b[38;5;241;43m*\u001b[39;49m\u001b[43margs\u001b[49m\u001b[43m,\u001b[49m\u001b[43m \u001b[49m\u001b[38;5;241;43m*\u001b[39;49m\u001b[38;5;241;43m*\u001b[39;49m\u001b[43mkwargs\u001b[49m\u001b[43m)\u001b[49m\n\u001b[1;32m     77\u001b[0m \u001b[38;5;28;01mfinally\u001b[39;00m:\n\u001b[1;32m     78\u001b[0m     torch\u001b[38;5;241m.\u001b[39m_dynamo\u001b[38;5;241m.\u001b[39mgraph_break()\n",
      "File \u001b[0;32m~/.pyenv/versions/3.9.6/lib/python3.9/site-packages/torch/optim/adam.py:166\u001b[0m, in \u001b[0;36mAdam.step\u001b[0;34m(self, closure)\u001b[0m\n\u001b[1;32m    155\u001b[0m     beta1, beta2 \u001b[38;5;241m=\u001b[39m group[\u001b[38;5;124m'\u001b[39m\u001b[38;5;124mbetas\u001b[39m\u001b[38;5;124m'\u001b[39m]\n\u001b[1;32m    157\u001b[0m     has_complex \u001b[38;5;241m=\u001b[39m \u001b[38;5;28mself\u001b[39m\u001b[38;5;241m.\u001b[39m_init_group(\n\u001b[1;32m    158\u001b[0m         group,\n\u001b[1;32m    159\u001b[0m         params_with_grad,\n\u001b[0;32m   (...)\u001b[0m\n\u001b[1;32m    163\u001b[0m         max_exp_avg_sqs,\n\u001b[1;32m    164\u001b[0m         state_steps)\n\u001b[0;32m--> 166\u001b[0m     \u001b[43madam\u001b[49m\u001b[43m(\u001b[49m\n\u001b[1;32m    167\u001b[0m \u001b[43m        \u001b[49m\u001b[43mparams_with_grad\u001b[49m\u001b[43m,\u001b[49m\n\u001b[1;32m    168\u001b[0m \u001b[43m        \u001b[49m\u001b[43mgrads\u001b[49m\u001b[43m,\u001b[49m\n\u001b[1;32m    169\u001b[0m \u001b[43m        \u001b[49m\u001b[43mexp_avgs\u001b[49m\u001b[43m,\u001b[49m\n\u001b[1;32m    170\u001b[0m \u001b[43m        \u001b[49m\u001b[43mexp_avg_sqs\u001b[49m\u001b[43m,\u001b[49m\n\u001b[1;32m    171\u001b[0m \u001b[43m        \u001b[49m\u001b[43mmax_exp_avg_sqs\u001b[49m\u001b[43m,\u001b[49m\n\u001b[1;32m    172\u001b[0m \u001b[43m        \u001b[49m\u001b[43mstate_steps\u001b[49m\u001b[43m,\u001b[49m\n\u001b[1;32m    173\u001b[0m \u001b[43m        \u001b[49m\u001b[43mamsgrad\u001b[49m\u001b[38;5;241;43m=\u001b[39;49m\u001b[43mgroup\u001b[49m\u001b[43m[\u001b[49m\u001b[38;5;124;43m'\u001b[39;49m\u001b[38;5;124;43mamsgrad\u001b[39;49m\u001b[38;5;124;43m'\u001b[39;49m\u001b[43m]\u001b[49m\u001b[43m,\u001b[49m\n\u001b[1;32m    174\u001b[0m \u001b[43m        \u001b[49m\u001b[43mhas_complex\u001b[49m\u001b[38;5;241;43m=\u001b[39;49m\u001b[43mhas_complex\u001b[49m\u001b[43m,\u001b[49m\n\u001b[1;32m    175\u001b[0m \u001b[43m        \u001b[49m\u001b[43mbeta1\u001b[49m\u001b[38;5;241;43m=\u001b[39;49m\u001b[43mbeta1\u001b[49m\u001b[43m,\u001b[49m\n\u001b[1;32m    176\u001b[0m \u001b[43m        \u001b[49m\u001b[43mbeta2\u001b[49m\u001b[38;5;241;43m=\u001b[39;49m\u001b[43mbeta2\u001b[49m\u001b[43m,\u001b[49m\n\u001b[1;32m    177\u001b[0m \u001b[43m        \u001b[49m\u001b[43mlr\u001b[49m\u001b[38;5;241;43m=\u001b[39;49m\u001b[43mgroup\u001b[49m\u001b[43m[\u001b[49m\u001b[38;5;124;43m'\u001b[39;49m\u001b[38;5;124;43mlr\u001b[39;49m\u001b[38;5;124;43m'\u001b[39;49m\u001b[43m]\u001b[49m\u001b[43m,\u001b[49m\n\u001b[1;32m    178\u001b[0m \u001b[43m        \u001b[49m\u001b[43mweight_decay\u001b[49m\u001b[38;5;241;43m=\u001b[39;49m\u001b[43mgroup\u001b[49m\u001b[43m[\u001b[49m\u001b[38;5;124;43m'\u001b[39;49m\u001b[38;5;124;43mweight_decay\u001b[39;49m\u001b[38;5;124;43m'\u001b[39;49m\u001b[43m]\u001b[49m\u001b[43m,\u001b[49m\n\u001b[1;32m    179\u001b[0m \u001b[43m        \u001b[49m\u001b[43meps\u001b[49m\u001b[38;5;241;43m=\u001b[39;49m\u001b[43mgroup\u001b[49m\u001b[43m[\u001b[49m\u001b[38;5;124;43m'\u001b[39;49m\u001b[38;5;124;43meps\u001b[39;49m\u001b[38;5;124;43m'\u001b[39;49m\u001b[43m]\u001b[49m\u001b[43m,\u001b[49m\n\u001b[1;32m    180\u001b[0m \u001b[43m        \u001b[49m\u001b[43mmaximize\u001b[49m\u001b[38;5;241;43m=\u001b[39;49m\u001b[43mgroup\u001b[49m\u001b[43m[\u001b[49m\u001b[38;5;124;43m'\u001b[39;49m\u001b[38;5;124;43mmaximize\u001b[39;49m\u001b[38;5;124;43m'\u001b[39;49m\u001b[43m]\u001b[49m\u001b[43m,\u001b[49m\n\u001b[1;32m    181\u001b[0m \u001b[43m        \u001b[49m\u001b[43mforeach\u001b[49m\u001b[38;5;241;43m=\u001b[39;49m\u001b[43mgroup\u001b[49m\u001b[43m[\u001b[49m\u001b[38;5;124;43m'\u001b[39;49m\u001b[38;5;124;43mforeach\u001b[39;49m\u001b[38;5;124;43m'\u001b[39;49m\u001b[43m]\u001b[49m\u001b[43m,\u001b[49m\n\u001b[1;32m    182\u001b[0m \u001b[43m        \u001b[49m\u001b[43mcapturable\u001b[49m\u001b[38;5;241;43m=\u001b[39;49m\u001b[43mgroup\u001b[49m\u001b[43m[\u001b[49m\u001b[38;5;124;43m'\u001b[39;49m\u001b[38;5;124;43mcapturable\u001b[39;49m\u001b[38;5;124;43m'\u001b[39;49m\u001b[43m]\u001b[49m\u001b[43m,\u001b[49m\n\u001b[1;32m    183\u001b[0m \u001b[43m        \u001b[49m\u001b[43mdifferentiable\u001b[49m\u001b[38;5;241;43m=\u001b[39;49m\u001b[43mgroup\u001b[49m\u001b[43m[\u001b[49m\u001b[38;5;124;43m'\u001b[39;49m\u001b[38;5;124;43mdifferentiable\u001b[39;49m\u001b[38;5;124;43m'\u001b[39;49m\u001b[43m]\u001b[49m\u001b[43m,\u001b[49m\n\u001b[1;32m    184\u001b[0m \u001b[43m        \u001b[49m\u001b[43mfused\u001b[49m\u001b[38;5;241;43m=\u001b[39;49m\u001b[43mgroup\u001b[49m\u001b[43m[\u001b[49m\u001b[38;5;124;43m'\u001b[39;49m\u001b[38;5;124;43mfused\u001b[39;49m\u001b[38;5;124;43m'\u001b[39;49m\u001b[43m]\u001b[49m\u001b[43m,\u001b[49m\n\u001b[1;32m    185\u001b[0m \u001b[43m        \u001b[49m\u001b[43mgrad_scale\u001b[49m\u001b[38;5;241;43m=\u001b[39;49m\u001b[38;5;28;43mgetattr\u001b[39;49m\u001b[43m(\u001b[49m\u001b[38;5;28;43mself\u001b[39;49m\u001b[43m,\u001b[49m\u001b[43m \u001b[49m\u001b[38;5;124;43m\"\u001b[39;49m\u001b[38;5;124;43mgrad_scale\u001b[39;49m\u001b[38;5;124;43m\"\u001b[39;49m\u001b[43m,\u001b[49m\u001b[43m \u001b[49m\u001b[38;5;28;43;01mNone\u001b[39;49;00m\u001b[43m)\u001b[49m\u001b[43m,\u001b[49m\n\u001b[1;32m    186\u001b[0m \u001b[43m        \u001b[49m\u001b[43mfound_inf\u001b[49m\u001b[38;5;241;43m=\u001b[39;49m\u001b[38;5;28;43mgetattr\u001b[39;49m\u001b[43m(\u001b[49m\u001b[38;5;28;43mself\u001b[39;49m\u001b[43m,\u001b[49m\u001b[43m \u001b[49m\u001b[38;5;124;43m\"\u001b[39;49m\u001b[38;5;124;43mfound_inf\u001b[39;49m\u001b[38;5;124;43m\"\u001b[39;49m\u001b[43m,\u001b[49m\u001b[43m \u001b[49m\u001b[38;5;28;43;01mNone\u001b[39;49;00m\u001b[43m)\u001b[49m\u001b[43m,\u001b[49m\n\u001b[1;32m    187\u001b[0m \u001b[43m    \u001b[49m\u001b[43m)\u001b[49m\n\u001b[1;32m    189\u001b[0m \u001b[38;5;28;01mreturn\u001b[39;00m loss\n",
      "File \u001b[0;32m~/.pyenv/versions/3.9.6/lib/python3.9/site-packages/torch/optim/adam.py:316\u001b[0m, in \u001b[0;36madam\u001b[0;34m(params, grads, exp_avgs, exp_avg_sqs, max_exp_avg_sqs, state_steps, foreach, capturable, differentiable, fused, grad_scale, found_inf, has_complex, amsgrad, beta1, beta2, lr, weight_decay, eps, maximize)\u001b[0m\n\u001b[1;32m    313\u001b[0m \u001b[38;5;28;01melse\u001b[39;00m:\n\u001b[1;32m    314\u001b[0m     func \u001b[38;5;241m=\u001b[39m _single_tensor_adam\n\u001b[0;32m--> 316\u001b[0m \u001b[43mfunc\u001b[49m\u001b[43m(\u001b[49m\u001b[43mparams\u001b[49m\u001b[43m,\u001b[49m\n\u001b[1;32m    317\u001b[0m \u001b[43m     \u001b[49m\u001b[43mgrads\u001b[49m\u001b[43m,\u001b[49m\n\u001b[1;32m    318\u001b[0m \u001b[43m     \u001b[49m\u001b[43mexp_avgs\u001b[49m\u001b[43m,\u001b[49m\n\u001b[1;32m    319\u001b[0m \u001b[43m     \u001b[49m\u001b[43mexp_avg_sqs\u001b[49m\u001b[43m,\u001b[49m\n\u001b[1;32m    320\u001b[0m \u001b[43m     \u001b[49m\u001b[43mmax_exp_avg_sqs\u001b[49m\u001b[43m,\u001b[49m\n\u001b[1;32m    321\u001b[0m \u001b[43m     \u001b[49m\u001b[43mstate_steps\u001b[49m\u001b[43m,\u001b[49m\n\u001b[1;32m    322\u001b[0m \u001b[43m     \u001b[49m\u001b[43mamsgrad\u001b[49m\u001b[38;5;241;43m=\u001b[39;49m\u001b[43mamsgrad\u001b[49m\u001b[43m,\u001b[49m\n\u001b[1;32m    323\u001b[0m \u001b[43m     \u001b[49m\u001b[43mhas_complex\u001b[49m\u001b[38;5;241;43m=\u001b[39;49m\u001b[43mhas_complex\u001b[49m\u001b[43m,\u001b[49m\n\u001b[1;32m    324\u001b[0m \u001b[43m     \u001b[49m\u001b[43mbeta1\u001b[49m\u001b[38;5;241;43m=\u001b[39;49m\u001b[43mbeta1\u001b[49m\u001b[43m,\u001b[49m\n\u001b[1;32m    325\u001b[0m \u001b[43m     \u001b[49m\u001b[43mbeta2\u001b[49m\u001b[38;5;241;43m=\u001b[39;49m\u001b[43mbeta2\u001b[49m\u001b[43m,\u001b[49m\n\u001b[1;32m    326\u001b[0m \u001b[43m     \u001b[49m\u001b[43mlr\u001b[49m\u001b[38;5;241;43m=\u001b[39;49m\u001b[43mlr\u001b[49m\u001b[43m,\u001b[49m\n\u001b[1;32m    327\u001b[0m \u001b[43m     \u001b[49m\u001b[43mweight_decay\u001b[49m\u001b[38;5;241;43m=\u001b[39;49m\u001b[43mweight_decay\u001b[49m\u001b[43m,\u001b[49m\n\u001b[1;32m    328\u001b[0m \u001b[43m     \u001b[49m\u001b[43meps\u001b[49m\u001b[38;5;241;43m=\u001b[39;49m\u001b[43meps\u001b[49m\u001b[43m,\u001b[49m\n\u001b[1;32m    329\u001b[0m \u001b[43m     \u001b[49m\u001b[43mmaximize\u001b[49m\u001b[38;5;241;43m=\u001b[39;49m\u001b[43mmaximize\u001b[49m\u001b[43m,\u001b[49m\n\u001b[1;32m    330\u001b[0m \u001b[43m     \u001b[49m\u001b[43mcapturable\u001b[49m\u001b[38;5;241;43m=\u001b[39;49m\u001b[43mcapturable\u001b[49m\u001b[43m,\u001b[49m\n\u001b[1;32m    331\u001b[0m \u001b[43m     \u001b[49m\u001b[43mdifferentiable\u001b[49m\u001b[38;5;241;43m=\u001b[39;49m\u001b[43mdifferentiable\u001b[49m\u001b[43m,\u001b[49m\n\u001b[1;32m    332\u001b[0m \u001b[43m     \u001b[49m\u001b[43mgrad_scale\u001b[49m\u001b[38;5;241;43m=\u001b[39;49m\u001b[43mgrad_scale\u001b[49m\u001b[43m,\u001b[49m\n\u001b[1;32m    333\u001b[0m \u001b[43m     \u001b[49m\u001b[43mfound_inf\u001b[49m\u001b[38;5;241;43m=\u001b[39;49m\u001b[43mfound_inf\u001b[49m\u001b[43m)\u001b[49m\n",
      "File \u001b[0;32m~/.pyenv/versions/3.9.6/lib/python3.9/site-packages/torch/optim/adam.py:439\u001b[0m, in \u001b[0;36m_single_tensor_adam\u001b[0;34m(params, grads, exp_avgs, exp_avg_sqs, max_exp_avg_sqs, state_steps, grad_scale, found_inf, amsgrad, has_complex, beta1, beta2, lr, weight_decay, eps, maximize, capturable, differentiable)\u001b[0m\n\u001b[1;32m    437\u001b[0m         denom \u001b[38;5;241m=\u001b[39m (max_exp_avg_sqs[i]\u001b[38;5;241m.\u001b[39msqrt() \u001b[38;5;241m/\u001b[39m bias_correction2_sqrt)\u001b[38;5;241m.\u001b[39madd_(eps)\n\u001b[1;32m    438\u001b[0m     \u001b[38;5;28;01melse\u001b[39;00m:\n\u001b[0;32m--> 439\u001b[0m         denom \u001b[38;5;241m=\u001b[39m (\u001b[43mexp_avg_sq\u001b[49m\u001b[38;5;241;43m.\u001b[39;49m\u001b[43msqrt\u001b[49m\u001b[43m(\u001b[49m\u001b[43m)\u001b[49m\u001b[43m \u001b[49m\u001b[38;5;241;43m/\u001b[39;49m\u001b[43m \u001b[49m\u001b[43mbias_correction2_sqrt\u001b[49m)\u001b[38;5;241m.\u001b[39madd_(eps)\n\u001b[1;32m    441\u001b[0m     param\u001b[38;5;241m.\u001b[39maddcdiv_(exp_avg, denom, value\u001b[38;5;241m=\u001b[39m\u001b[38;5;241m-\u001b[39mstep_size)\n\u001b[1;32m    443\u001b[0m \u001b[38;5;66;03m# Lastly, switch back to complex view\u001b[39;00m\n",
      "\u001b[0;31mKeyboardInterrupt\u001b[0m: "
     ]
    }
   ],
   "source": [
    "# Create DataLoader\n",
    "import torch.optim as optim\n",
    "from torch.utils.data import DataLoader, TensorDataset\n",
    "\n",
    "# Instantiate device\n",
    "device = torch.device(\"cuda\" if torch.cuda.is_available() else \"cpu\")\n",
    "\n",
    "# Move data onto device\n",
    "X_train_tensor.to(device)\n",
    "X_test_tensor.to(device)\n",
    "y_train_tensor.to(device)\n",
    "y_test_tensor.to(device)\n",
    "\n",
    "train_dataset = TensorDataset(X_train_tensor, y_train_tensor)\n",
    "train_dataloader = DataLoader(train_dataset, batch_size=2, shuffle=True)\n",
    "\n",
    "# Simple Test Model\n",
    "class SimpleNNWithEmbeddings(nn.Module):\n",
    "    def __init__(self, embeddings_1, embeddings_2, embeddings_3, embedding_dim, hidden_dim):\n",
    "        super(SimpleNNWithEmbeddings, self).__init__()\n",
    "        self.embedding1 = nn.Embedding(embeddings_1, embedding_dim)\n",
    "        self.embedding2 = nn.Embedding(embeddings_2, embedding_dim)\n",
    "        self.embedding3 = nn.Embedding(embeddings_3, embedding_dim)\n",
    "        self.fc1 = nn.Linear(embedding_dim * 3, hidden_dim)\n",
    "        self.fc2 = nn.Linear(hidden_dim, 1)\n",
    "    \n",
    "    def forward(self, X):\n",
    "        X1 = self.embedding1(X[:, 0])\n",
    "        X2 = self.embedding2(X[:, 1])\n",
    "        # print(X[0, :])\n",
    "        X3 = self.embedding3(X[:, 2])\n",
    "        X = torch.cat((X1, X2, X3), dim=1)\n",
    "        X = torch.relu(self.fc1(X))\n",
    "        X = torch.sigmoid(self.fc2(X))\n",
    "        return X\n",
    "\n",
    "# Instantiate the model\n",
    "embeddings_1 = len(encoders[0].classes_)\n",
    "embeddings_2 = len(encoders[1].classes_)\n",
    "embeddings_3 = len(encoders[2].classes_)\n",
    "\n",
    "embedding_dim = 8\n",
    "hidden_dim = 16\n",
    "model = SimpleNNWithEmbeddings(embeddings_1, embeddings_2, embeddings_3, embedding_dim, hidden_dim)\n",
    "model.to(device)\n",
    "\n",
    "# Define loss and optimizer\n",
    "criterion = nn.MSELoss()\n",
    "optimizer = optim.Adam(model.parameters(), lr=0.001)\n",
    "\n",
    "# Train and predict on the dataset\n",
    "mean_losses = train_model(model, train_dataloader, optimizer, criterion, 10)\n",
    "print(mean_losses)\n",
    "predict_values(X_train, y_train, criterion, 'Train')\n",
    "predict_values(X_test, y_test, model, criterion, 'Test')"
   ]
  },
  {
   "cell_type": "code",
   "execution_count": null,
   "metadata": {},
   "outputs": [],
   "source": [
    "# Simple LSTM model for time series predictions\n",
    "class SimpleLSTM(nn.Module):\n",
    "    def __init__(self, input_dim, hidden_dim, output_dim, num_layers=1):\n",
    "        super(SimpleLSTM, self).__init__()\n",
    "        self.lstm = nn.LSTM(input_dim, hidden_dim, num_layers, batch_first=True)\n",
    "        self.fc = nn.Linear(hidden_dim, output_dim)\n",
    "    \n",
    "    def forward(self, x):\n",
    "        h0 = torch.zeros(self.lstm.num_layers, x.size(0), self.lstm.hidden_size).to(x.device)\n",
    "        c0 = torch.zeros(self.lstm.num_layers, x.size(0), self.lstm.hidden_size).to(x.device)\n",
    "        \n",
    "        out, _ = self.lstm(x, (h0, c0))\n",
    "        out = self.fc(out[:, -1, :])\n",
    "        return out\n",
    "\n",
    "model = SimpleLSTM(input_dim=10, hidden_dim=50, output_dim=1)"
   ]
  },
  {
   "cell_type": "code",
   "execution_count": null,
   "metadata": {},
   "outputs": [
    {
     "name": "stderr",
     "output_type": "stream",
     "text": [
      "/var/folders/0h/y7x46tzs4n7_bwqfd9b2c0q00000gn/T/ipykernel_3119/300830076.py:7: UserWarning: Unable to sort modes: '<' not supported between instances of 'str' and 'float'\n",
      "  agg_dict[col] = lambda x: pd.Series.mode(x, dropna=False)[0]\n",
      "/var/folders/0h/y7x46tzs4n7_bwqfd9b2c0q00000gn/T/ipykernel_3119/300830076.py:7: UserWarning: Unable to sort modes: '<' not supported between instances of 'float' and 'str'\n",
      "  agg_dict[col] = lambda x: pd.Series.mode(x, dropna=False)[0]\n"
     ]
    }
   ],
   "source": [
    "\n",
    "cols = amazon_df.columns.drop(['Qty', 'Amount'])\n",
    "column_extraction = amazon_df[cols]\n",
    "\n",
    "# Aggregate all columns expect quantity by the most common value\n",
    "agg_dict = {'Qty': 'sum', 'Amount': 'sum'}\n",
    "for col in column_extraction:\n",
    "    agg_dict[col] = lambda x: pd.Series.mode(x, dropna=False)[0]\n",
    "product_grouping = amazon_df.groupby(\"SKU\").agg(agg_dict)\n",
    "product_grouping.sort_values(by=\"Amount\", ascending=False, inplace=True)\n",
    "\n",
    "# Drop columns not useful for this analysis\n",
    "product_grouping.drop(['index', 'Fulfilment', 'Sales Channel ', 'SKU', 'Style', 'Order ID', 'currency', 'ship-postal-code',  \n",
    "                       'ship-country', 'Courier Status', 'fulfilled-by'], axis=1, inplace=True)\n"
   ]
  },
  {
   "cell_type": "code",
   "execution_count": null,
   "metadata": {},
   "outputs": [
    {
     "data": {
      "image/png": "[encoded data removed]",
      "text/plain": [
       "<Figure size 640x480 with 1 Axes>"
      ]
     },
     "metadata": {},
     "output_type": "display_data"
    }
   ],
   "source": [
    "top_100 = product_grouping[:100]\n",
    "cat_counts = top_100['Category'].value_counts().plot(kind='bar', ylabel='Quantity', title='Categories in top 100')\n",
    "\n",
    "# print(cat_counts)\n",
    "# plt.bar(cat_counts)\n",
    "# plt.xlabel('Category')\n",
    "# plt.ylabel('Quantity')\n",
    "# plt.show()"
   ]
  },
  {
   "cell_type": "code",
   "execution_count": null,
   "metadata": {},
   "outputs": [
    {
     "data": {
      "image/png": "[encoded data removed]",
      "text/plain": [
       "<Figure size 640x480 with 1 Axes>"
      ]
     },
     "metadata": {},
     "output_type": "display_data"
    }
   ],
   "source": [
    "size_counts = top_100['Size'].value_counts().plot(kind='bar', ylabel='Quantity', title='Sizes in top 100')"
   ]
  }
 ],
 "metadata": {
  "kernelspec": {
   "display_name": "Python 3",
   "language": "python",
   "name": "python3"
  },
  "language_info": {
   "codemirror_mode": {
    "name": "ipython",
    "version": 3
   },
   "file_extension": ".py",
   "mimetype": "text/x-python",
   "name": "python",
   "nbconvert_exporter": "python",
   "pygments_lexer": "ipython3",
   "version": "3.9.6"
  }
 },
 "nbformat": 4,
 "nbformat_minor": 2
}
