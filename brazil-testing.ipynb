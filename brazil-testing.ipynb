{
 "cells": [
  {
   "cell_type": "code",
   "execution_count": 1,
   "metadata": {},
   "outputs": [],
   "source": [
    "import pandas as pd\n",
    "import numpy as np\n",
    "from scipy import stats\n",
    "import matplotlib.pyplot as plt"
   ]
  },
  {
   "cell_type": "code",
   "execution_count": 3,
   "metadata": {},
   "outputs": [
    {
     "name": "stdout",
     "output_type": "stream",
     "text": [
      "product_id                    1e9e8ef04dbcff4541ed26657ea517e5\n",
      "product_category_name                               perfumaria\n",
      "product_name_lenght                                       40.0\n",
      "product_description_lenght                               287.0\n",
      "product_photos_qty                                         1.0\n",
      "product_weight_g                                         225.0\n",
      "product_length_cm                                         16.0\n",
      "product_height_cm                                         10.0\n",
      "product_width_cm                                          14.0\n",
      "Name: 0, dtype: object\n"
     ]
    }
   ],
   "source": [
    "products_df = pd.read_csv(\"BrazilDataset/olist_products_dataset.csv\")\n",
    "print(products_df.iloc[0])"
   ]
  }
 ],
 "metadata": {
  "kernelspec": {
   "display_name": "Python 3",
   "language": "python",
   "name": "python3"
  },
  "language_info": {
   "codemirror_mode": {
    "name": "ipython",
    "version": 3
   },
   "file_extension": ".py",
   "mimetype": "text/x-python",
   "name": "python",
   "nbconvert_exporter": "python",
   "pygments_lexer": "ipython3",
   "version": "3.9.6"
  }
 },
 "nbformat": 4,
 "nbformat_minor": 2
}
