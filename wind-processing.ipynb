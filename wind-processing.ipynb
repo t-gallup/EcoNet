{
 "cells": [
  {
   "cell_type": "code",
   "execution_count": 64,
   "metadata": {},
   "outputs": [
    {
     "name": "stdout",
     "output_type": "stream",
     "text": [
      "STATION                                                   A5125600451\n",
      "DATE                                                       2024-01-01\n",
      "LATITUDE                                                      36.6985\n",
      "LONGITUDE                                                    -93.4022\n",
      "ELEVATION                                                       411.2\n",
      "NAME                BRANSON WEST MUNICIPAL EMERSON FIELD AIRPORT, ...\n",
      "TEMP                                                             32.7\n",
      "TEMP_ATTRIBUTES                                                    19\n",
      "DEWP                                                             24.8\n",
      "DEWP_ATTRIBUTES                                                    19\n",
      "SLP                                                            9999.9\n",
      "SLP_ATTRIBUTES                                                      0\n",
      "STP                                                             978.4\n",
      "STP_ATTRIBUTES                                                     19\n",
      "VISIB                                                            10.0\n",
      "VISIB_ATTRIBUTES                                                   19\n",
      "WDSP                                                              3.2\n",
      "WDSP_ATTRIBUTES                                                    19\n",
      "MXSPD                                                             8.9\n",
      "GUST                                                             12.0\n",
      "MAX                                                              39.2\n",
      "MAX_ATTRIBUTES                                                      *\n",
      "MIN                                                              30.2\n",
      "MIN_ATTRIBUTES                                                      *\n",
      "PRCP                                                              0.0\n",
      "PRCP_ATTRIBUTES                                                     I\n",
      "SNDP                                                            999.9\n",
      "FRSHTT                                                              0\n",
      "Name: 0, dtype: object\n",
      "89.6\n"
     ]
    }
   ],
   "source": [
    "import pandas as pd\n",
    "import re\n",
    "\n",
    "test = pd.read_csv(\"2024/A5125600451.csv\")\n",
    "print(test.iloc[0])\n",
    "print(max(test['MAX']))"
   ]
  },
  {
   "cell_type": "code",
   "execution_count": 113,
   "metadata": {},
   "outputs": [
    {
     "name": "stderr",
     "output_type": "stream",
     "text": [
      "/var/folders/0h/y7x46tzs4n7_bwqfd9b2c0q00000gn/T/ipykernel_75761/1758563562.py:2: DtypeWarning: Columns (0) have mixed types. Specify dtype option on import or set low_memory=False.\n",
      "  df = pd.read_csv(str(year)+'-Wind.csv')\n",
      "/var/folders/0h/y7x46tzs4n7_bwqfd9b2c0q00000gn/T/ipykernel_75761/1758563562.py:2: DtypeWarning: Columns (0) have mixed types. Specify dtype option on import or set low_memory=False.\n",
      "  df = pd.read_csv(str(year)+'-Wind.csv')\n",
      "/var/folders/0h/y7x46tzs4n7_bwqfd9b2c0q00000gn/T/ipykernel_75761/1758563562.py:2: DtypeWarning: Columns (0) have mixed types. Specify dtype option on import or set low_memory=False.\n",
      "  df = pd.read_csv(str(year)+'-Wind.csv')\n",
      "/var/folders/0h/y7x46tzs4n7_bwqfd9b2c0q00000gn/T/ipykernel_75761/1758563562.py:2: DtypeWarning: Columns (0) have mixed types. Specify dtype option on import or set low_memory=False.\n",
      "  df = pd.read_csv(str(year)+'-Wind.csv')\n",
      "/var/folders/0h/y7x46tzs4n7_bwqfd9b2c0q00000gn/T/ipykernel_75761/1758563562.py:2: DtypeWarning: Columns (0) have mixed types. Specify dtype option on import or set low_memory=False.\n",
      "  df = pd.read_csv(str(year)+'-Wind.csv')\n",
      "/var/folders/0h/y7x46tzs4n7_bwqfd9b2c0q00000gn/T/ipykernel_75761/1758563562.py:2: DtypeWarning: Columns (0) have mixed types. Specify dtype option on import or set low_memory=False.\n",
      "  df = pd.read_csv(str(year)+'-Wind.csv')\n",
      "/var/folders/0h/y7x46tzs4n7_bwqfd9b2c0q00000gn/T/ipykernel_75761/1758563562.py:2: DtypeWarning: Columns (0) have mixed types. Specify dtype option on import or set low_memory=False.\n",
      "  df = pd.read_csv(str(year)+'-Wind.csv')\n",
      "/var/folders/0h/y7x46tzs4n7_bwqfd9b2c0q00000gn/T/ipykernel_75761/1758563562.py:2: DtypeWarning: Columns (0) have mixed types. Specify dtype option on import or set low_memory=False.\n",
      "  df = pd.read_csv(str(year)+'-Wind.csv')\n",
      "/var/folders/0h/y7x46tzs4n7_bwqfd9b2c0q00000gn/T/ipykernel_75761/1758563562.py:2: DtypeWarning: Columns (0) have mixed types. Specify dtype option on import or set low_memory=False.\n",
      "  df = pd.read_csv(str(year)+'-Wind.csv')\n",
      "/var/folders/0h/y7x46tzs4n7_bwqfd9b2c0q00000gn/T/ipykernel_75761/1758563562.py:2: DtypeWarning: Columns (0) have mixed types. Specify dtype option on import or set low_memory=False.\n",
      "  df = pd.read_csv(str(year)+'-Wind.csv')\n"
     ]
    }
   ],
   "source": [
    "for year in range(2014, 2025):\n",
    "    df = pd.read_csv(str(year)+'-Wind.csv')\n",
    "    ca_df = df[df['NAME'].str.endswith('CA US', na=False)]\n",
    "    ca_df.to_csv('CA-' + str(year)+ '-Wind.csv', index=False)"
   ]
  },
  {
   "cell_type": "code",
   "execution_count": 17,
   "metadata": {},
   "outputs": [],
   "source": [
    "import glob\n",
    "import os"
   ]
  },
  {
   "cell_type": "code",
   "execution_count": 18,
   "metadata": {},
   "outputs": [
    {
     "name": "stdout",
     "output_type": "stream",
     "text": [
      "11875\n"
     ]
    }
   ],
   "source": [
    "all_files = glob.glob(os.path.join('2024', \"*.csv\"))\n",
    "\n",
    "# Read each CSV file and concatenate them into a single DataFrame\n",
    "df_list = [pd.read_csv(file) for file in all_files]\n",
    "combined_df = pd.concat(df_list, ignore_index=True)\n",
    "print(len(df_list))"
   ]
  },
  {
   "cell_type": "code",
   "execution_count": null,
   "metadata": {},
   "outputs": [],
   "source": [
    "import glob\n",
    "import os\n",
    "import pandas as pd\n",
    "def combine_files(year):\n",
    "    all_files = glob.glob(os.path.join(year, \"*.csv\"))\n",
    "\n",
    "    # Read each CSV file and concatenate them into a single DataFrame\n",
    "    df_list = [pd.read_csv(file) for file in all_files]\n",
    "    combined_df = pd.concat(df_list, ignore_index=True)\n",
    "    combined_df.to_csv(year + 'Wind.csv', index=False)\n",
    "combine_files('2021')"
   ]
  },
  {
   "cell_type": "code",
   "execution_count": 108,
   "metadata": {},
   "outputs": [],
   "source": [
    "combined_df.to_csv('2024-Wind.csv', index=False)"
   ]
  },
  {
   "cell_type": "code",
   "execution_count": 109,
   "metadata": {},
   "outputs": [],
   "source": [
    "for year in ['2023', '2022']:\n",
    "    all_files = glob.glob(os.path.join(year, \"*.csv\"))\n",
    "\n",
    "    # Read each CSV file and concatenate them into a single DataFrame\n",
    "    df_list = [pd.read_csv(file) for file in all_files]\n",
    "    combined_df = pd.concat(df_list, ignore_index=True)\n",
    "    combined_df.to_csv(year + '-Wind.csv', index=False)\n",
    "\n"
   ]
  },
  {
   "cell_type": "code",
   "execution_count": 56,
   "metadata": {},
   "outputs": [
    {
     "name": "stdout",
     "output_type": "stream",
     "text": [
      "1833000\n"
     ]
    }
   ],
   "source": [
    "print(len(combined_df))"
   ]
  },
  {
   "cell_type": "code",
   "execution_count": 84,
   "metadata": {},
   "outputs": [
    {
     "name": "stdout",
     "output_type": "stream",
     "text": [
      "1768032\n"
     ]
    }
   ],
   "source": [
    "# Filter out missing data values of 999.9\n",
    "combined_df = combined_df[combined_df['WDSP'] != 999.9]\n",
    "\n",
    "# Change missing values to -1\n",
    "combined_df['GUST'] = combined_df['GUST'].replace(999.9, -1)\n",
    "combined_df['MXSPD'] = combined_df['MXSPD'].replace(999.9, -1)\n",
    "print(len(combined_df))"
   ]
  },
  {
   "cell_type": "code",
   "execution_count": 58,
   "metadata": {},
   "outputs": [
    {
     "ename": "IndexError",
     "evalue": "single positional indexer is out-of-bounds",
     "output_type": "error",
     "traceback": [
      "\u001b[0;31m---------------------------------------------------------------------------\u001b[0m",
      "\u001b[0;31mIndexError\u001b[0m                                Traceback (most recent call last)",
      "Cell \u001b[0;32mIn[58], line 3\u001b[0m\n\u001b[1;32m      1\u001b[0m \u001b[38;5;66;03m# print(combined_df.iloc[0])\u001b[39;00m\n\u001b[1;32m      2\u001b[0m \u001b[38;5;66;03m# print(len(combined_df))\u001b[39;00m\n\u001b[0;32m----> 3\u001b[0m \u001b[38;5;28mprint\u001b[39m(\u001b[43mcombined_df\u001b[49m\u001b[43m[\u001b[49m\u001b[43mcombined_df\u001b[49m\u001b[43m[\u001b[49m\u001b[38;5;124;43m'\u001b[39;49m\u001b[38;5;124;43mNAME\u001b[39;49m\u001b[38;5;124;43m'\u001b[39;49m\u001b[43m]\u001b[49m\u001b[43m \u001b[49m\u001b[38;5;241;43m==\u001b[39;49m\u001b[43m \u001b[49m\u001b[38;5;124;43m'\u001b[39;49m\u001b[38;5;124;43mFALLBROOK 5 NE, CA US\u001b[39;49m\u001b[38;5;124;43m'\u001b[39;49m\u001b[43m]\u001b[49m\u001b[38;5;241;43m.\u001b[39;49m\u001b[43miloc\u001b[49m\u001b[43m[\u001b[49m\u001b[38;5;241;43m0\u001b[39;49m\u001b[43m]\u001b[49m)\n",
      "File \u001b[0;32m~/.pyenv/versions/3.9.6/lib/python3.9/site-packages/pandas/core/indexing.py:1191\u001b[0m, in \u001b[0;36m_LocationIndexer.__getitem__\u001b[0;34m(self, key)\u001b[0m\n\u001b[1;32m   1189\u001b[0m maybe_callable \u001b[38;5;241m=\u001b[39m com\u001b[38;5;241m.\u001b[39mapply_if_callable(key, \u001b[38;5;28mself\u001b[39m\u001b[38;5;241m.\u001b[39mobj)\n\u001b[1;32m   1190\u001b[0m maybe_callable \u001b[38;5;241m=\u001b[39m \u001b[38;5;28mself\u001b[39m\u001b[38;5;241m.\u001b[39m_check_deprecated_callable_usage(key, maybe_callable)\n\u001b[0;32m-> 1191\u001b[0m \u001b[38;5;28;01mreturn\u001b[39;00m \u001b[38;5;28;43mself\u001b[39;49m\u001b[38;5;241;43m.\u001b[39;49m\u001b[43m_getitem_axis\u001b[49m\u001b[43m(\u001b[49m\u001b[43mmaybe_callable\u001b[49m\u001b[43m,\u001b[49m\u001b[43m \u001b[49m\u001b[43maxis\u001b[49m\u001b[38;5;241;43m=\u001b[39;49m\u001b[43maxis\u001b[49m\u001b[43m)\u001b[49m\n",
      "File \u001b[0;32m~/.pyenv/versions/3.9.6/lib/python3.9/site-packages/pandas/core/indexing.py:1752\u001b[0m, in \u001b[0;36m_iLocIndexer._getitem_axis\u001b[0;34m(self, key, axis)\u001b[0m\n\u001b[1;32m   1749\u001b[0m     \u001b[38;5;28;01mraise\u001b[39;00m \u001b[38;5;167;01mTypeError\u001b[39;00m(\u001b[38;5;124m\"\u001b[39m\u001b[38;5;124mCannot index by location index with a non-integer key\u001b[39m\u001b[38;5;124m\"\u001b[39m)\n\u001b[1;32m   1751\u001b[0m \u001b[38;5;66;03m# validate the location\u001b[39;00m\n\u001b[0;32m-> 1752\u001b[0m \u001b[38;5;28;43mself\u001b[39;49m\u001b[38;5;241;43m.\u001b[39;49m\u001b[43m_validate_integer\u001b[49m\u001b[43m(\u001b[49m\u001b[43mkey\u001b[49m\u001b[43m,\u001b[49m\u001b[43m \u001b[49m\u001b[43maxis\u001b[49m\u001b[43m)\u001b[49m\n\u001b[1;32m   1754\u001b[0m \u001b[38;5;28;01mreturn\u001b[39;00m \u001b[38;5;28mself\u001b[39m\u001b[38;5;241m.\u001b[39mobj\u001b[38;5;241m.\u001b[39m_ixs(key, axis\u001b[38;5;241m=\u001b[39maxis)\n",
      "File \u001b[0;32m~/.pyenv/versions/3.9.6/lib/python3.9/site-packages/pandas/core/indexing.py:1685\u001b[0m, in \u001b[0;36m_iLocIndexer._validate_integer\u001b[0;34m(self, key, axis)\u001b[0m\n\u001b[1;32m   1683\u001b[0m len_axis \u001b[38;5;241m=\u001b[39m \u001b[38;5;28mlen\u001b[39m(\u001b[38;5;28mself\u001b[39m\u001b[38;5;241m.\u001b[39mobj\u001b[38;5;241m.\u001b[39m_get_axis(axis))\n\u001b[1;32m   1684\u001b[0m \u001b[38;5;28;01mif\u001b[39;00m key \u001b[38;5;241m>\u001b[39m\u001b[38;5;241m=\u001b[39m len_axis \u001b[38;5;129;01mor\u001b[39;00m key \u001b[38;5;241m<\u001b[39m \u001b[38;5;241m-\u001b[39mlen_axis:\n\u001b[0;32m-> 1685\u001b[0m     \u001b[38;5;28;01mraise\u001b[39;00m \u001b[38;5;167;01mIndexError\u001b[39;00m(\u001b[38;5;124m\"\u001b[39m\u001b[38;5;124msingle positional indexer is out-of-bounds\u001b[39m\u001b[38;5;124m\"\u001b[39m)\n",
      "\u001b[0;31mIndexError\u001b[0m: single positional indexer is out-of-bounds"
     ]
    }
   ],
   "source": []
  },
  {
   "cell_type": "code",
   "execution_count": 78,
   "metadata": {},
   "outputs": [],
   "source": [
    "ca_df = combined_df[combined_df['NAME'].str.contains('CA US', regex=True, na=False)]"
   ]
  },
  {
   "cell_type": "code",
   "execution_count": 83,
   "metadata": {},
   "outputs": [
    {
     "name": "stdout",
     "output_type": "stream",
     "text": [
      "                                       STATION  WDSP  MXSPD   GUST\n",
      "1650                   MOUNT WASHINGTON, NH US  28.9   45.1  49.45\n",
      "662                            TIN CITY, AK US  20.3   28.0   -1.0\n",
      "2471                       MONARCH PASS, CO US  19.8   34.0   41.0\n",
      "656               CAPE ROMANZOF AIRPORT, AK US  17.9   28.9   41.0\n",
      "1620                      BERTHOUD PASS, CO US  17.3   31.1   42.0\n",
      "...                                        ...   ...    ...    ...\n",
      "1327  MIDDLE PENINSULA REGIONAL AIRPORT, VA US   0.6    9.9   14.0\n",
      "6          OAKDALE ALLEN PARISH AIRPORT, LA US   0.5    9.9   -1.0\n",
      "2511               HUDSON RIVER RESERVE, NY US   0.5    2.9   -1.0\n",
      "1374           WINDER BARROW CO AIRPORT, GA US   0.2   14.0   -1.0\n",
      "1822           PAMPA MESA VISTA AIRPORT, TX US   0.0  999.9   -1.0\n",
      "\n",
      "[2529 rows x 4 columns]\n"
     ]
    }
   ],
   "source": [
    "import numpy as np\n",
    "def generate_best_windmill_locations(location):\n",
    "    df = combined_df[combined_df['NAME'].str.endswith(location, na=False)]\n",
    "    stations = list(set(df['NAME']))\n",
    "    wind_df = pd.DataFrame(columns=[\"STATION\", \"WDSP\", \"MXSPD\", \"GUST\"])\n",
    "    wind_df['STATION'] = stations\n",
    "    for i in range(len(stations)):\n",
    "        station = stations[i]\n",
    "        station_df = df[df['NAME'] == station]\n",
    "        wind_df.loc[i, 'WDSP'] = np.median(station_df['WDSP'])\n",
    "        wind_df.loc[i, 'MXSPD'] = np.median(station_df['MXSPD'])\n",
    "        wind_df.loc[i, 'GUST'] = np.median(station_df['GUST'])\n",
    "    sorted_wind_speeds = wind_df.sort_values(by='WDSP', ascending=False)\n",
    "    return sorted_wind_speeds\n",
    "# print(generate_best_windmill_locations('CA US'))\n",
    "print(generate_best_windmill_locations('US'))"
   ]
  },
  {
   "cell_type": "code",
   "execution_count": 39,
   "metadata": {},
   "outputs": [],
   "source": [
    "def group_by(df, group_col, agg_func):\n",
    "    grouped_df = df.groupby(group_col).agg(agg_func).reset_index()\n",
    "    return grouped_df"
   ]
  },
  {
   "cell_type": "markdown",
   "metadata": {},
   "source": [
    "Grouping CA DF by Station"
   ]
  },
  {
   "cell_type": "code",
   "execution_count": 40,
   "metadata": {},
   "outputs": [
    {
     "name": "stdout",
     "output_type": "stream",
     "text": [
      "NAME                ALAMEDA, CA US\n",
      "LONGITUDE                 -122.298\n",
      "LATITUDE                    37.772\n",
      "STATION                99403399999\n",
      "DATE                    2024-01-01\n",
      "ELEVATION                      2.0\n",
      "TEMP                          55.5\n",
      "TEMP_ATTRIBUTES                 23\n",
      "DEWP                        9999.9\n",
      "DEWP_ATTRIBUTES                  0\n",
      "SLP                         1014.0\n",
      "SLP_ATTRIBUTES                  23\n",
      "STP                          999.9\n",
      "STP_ATTRIBUTES                   0\n",
      "VISIB                        999.9\n",
      "VISIB_ATTRIBUTES                 0\n",
      "WDSP                           6.1\n",
      "WDSP_ATTRIBUTES                 23\n",
      "MXSPD                         12.0\n",
      "GUST                         999.9\n",
      "MAX                           58.3\n",
      "MAX_ATTRIBUTES                   *\n",
      "MIN                           51.6\n",
      "MIN_ATTRIBUTES                   *\n",
      "PRCP                           0.0\n",
      "PRCP_ATTRIBUTES                  I\n",
      "SNDP                         999.9\n",
      "FRSHTT                           0\n",
      "Name: 0, dtype: object\n"
     ]
    }
   ],
   "source": [
    "agg_func = lambda x: x.mode().iloc[0]\n",
    "ca_grouped = group_by(ca_df, [\"NAME\", \"LONGITUDE\", \"LATITUDE\", \"STATION\"], agg_func)\n",
    "print(ca_grouped.iloc[0])"
   ]
  },
  {
   "cell_type": "code",
   "execution_count": 68,
   "metadata": {},
   "outputs": [],
   "source": [
    "state_codes = {\n",
    "    'AL': 'Alabama',\n",
    "    'AK': 'Alaska',\n",
    "    'AZ': 'Arizona',\n",
    "    'AR': 'Arkansas',\n",
    "    'CA': 'California',\n",
    "    'CO': 'Colorado',\n",
    "    'CT': 'Connecticut',\n",
    "    'DE': 'Delaware',\n",
    "    'FL': 'Florida',\n",
    "    'GA': 'Georgia',\n",
    "    'HI': 'Hawaii',\n",
    "    'ID': 'Idaho',\n",
    "    'IL': 'Illinois',\n",
    "    'IN': 'Indiana',\n",
    "    'IA': 'Iowa',\n",
    "    'KS': 'Kansas',\n",
    "    'KY': 'Kentucky',\n",
    "    'LA': 'Louisiana',\n",
    "    'ME': 'Maine',\n",
    "    'MD': 'Maryland',\n",
    "    'MA': 'Massachusetts',\n",
    "    'MI': 'Michigan',\n",
    "    'MN': 'Minnesota',\n",
    "    'MS': 'Mississippi',\n",
    "    'MO': 'Missouri',\n",
    "    'MT': 'Montana',\n",
    "    'NE': 'Nebraska',\n",
    "    'NV': 'Nevada',\n",
    "    'NH': 'New Hampshire',\n",
    "    'NJ': 'New Jersey',\n",
    "    'NM': 'New Mexico',\n",
    "    'NY': 'New York',\n",
    "    'NC': 'North Carolina',\n",
    "    'ND': 'North Dakota',\n",
    "    'OH': 'Ohio',\n",
    "    'OK': 'Oklahoma',\n",
    "    'OR': 'Oregon',\n",
    "    'PA': 'Pennsylvania',\n",
    "    'RI': 'Rhode Island',\n",
    "    'SC': 'South Carolina',\n",
    "    'SD': 'South Dakota',\n",
    "    'TN': 'Tennessee',\n",
    "    'TX': 'Texas',\n",
    "    'UT': 'Utah',\n",
    "    'VT': 'Vermont',\n",
    "    'VA': 'Virginia',\n",
    "    'WA': 'Washington',\n",
    "    'WV': 'West Virginia',\n",
    "    'WI': 'Wisconsin',\n",
    "    'WY': 'Wyoming'\n",
    "}"
   ]
  },
  {
   "cell_type": "code",
   "execution_count": 80,
   "metadata": {},
   "outputs": [],
   "source": [
    "# for state in state_codes:\n",
    "#     best_locs = generate_best_windmill_locations(state + ' US')\n",
    "#     best_locs.to_csv(state + \" Wind.csv\", index=False)"
   ]
  },
  {
   "cell_type": "code",
   "execution_count": 104,
   "metadata": {},
   "outputs": [
    {
     "name": "stdout",
     "output_type": "stream",
     "text": [
      "21\n"
     ]
    }
   ],
   "source": [
    "print(list(state_codes.keys()).index('MI'))"
   ]
  },
  {
   "cell_type": "code",
   "execution_count": 88,
   "metadata": {},
   "outputs": [],
   "source": [
    "from decimal import Decimal\n",
    "def convert_to_decimal(item):\n",
    "    for key, value in item.items():\n",
    "        if isinstance(value, float):\n",
    "            item[key] = Decimal(str(value))\n",
    "        elif isinstance(value, dict):\n",
    "            convert_to_decimal(value)\n",
    "    return item"
   ]
  },
  {
   "cell_type": "code",
   "execution_count": 102,
   "metadata": {},
   "outputs": [
    {
     "name": "stdout",
     "output_type": "stream",
     "text": [
      "STATION    TIN CITY, AK US\n",
      "WDSP                  20.3\n",
      "MXSPD                 28.0\n",
      "GUST                  -1.0\n",
      "Name: 21, dtype: object\n",
      "172\n",
      "['ANAKTUVUK AUTO, AK US', 'MEKORYUK, AK US', 'KING SALMON AIRPORT, AK US', 'ILIAMNA AIRPORT, AK US', 'WALES AIRPORT, AK US', 'CHIGNIK AIRPORT, AK US', 'MINCHUMINA AIRPORT, AK US', 'DEADHORSE, AK US', 'DEADHORSE ALPINE AIRSTRIP, AK US', 'VALDEZ MUNICIPAL AIRPORT, AK US', 'UNALAKLEET FIELD, AK US', 'SELAWIK AIRPORT, AK US', 'KIVALINA AIRPORT, AK US', 'KIPNUK AIRPORT, AK US', 'COLD BAY AIRPORT, AK US', 'NELSON LAGOON AIRPORT, AK US', 'CAPE ROMANZOF AIRPORT, AK US', 'PRUDHOE BAY, AK US', 'SAINT PAUL ISLAND AIRPORT, AK US', 'PILOT POINT, AK US', 'ANIAK AIRPORT, AK US', 'TIN CITY, AK US', 'IGIUGIG AIRPORT, AK US', 'EAGLE AIRPORT, AK US', 'UNALASKA, AK US', 'NAPAKIAK, AK US', 'FALSE PASS, AK US', 'COLDFOOT AIRPORT, AK US', 'MARMION ISLAND, AK US', 'SAND POINT AIRPORT, AK US', 'TELLER AIRPORT, AK US', 'KODIAK AIRPORT, AK US', 'YAKUTAT AIRPORT, AK US', 'PETERSBURG 1, AK US', 'ST MARYS AIRPORT, AK US', 'BARTER ISLAND WEATHER SERVICE OFFICE AIRPORT, AK US', 'ST GEORGE ISLAND AIRPORT, AK US', 'ANCHORAGE TED STEVENS INTERNATIONAL AIRPORT, AK US', 'HUSLIA AIRPORT, AK US', 'KOYUK ALFRED ADAMS AIRPORT, AK US', 'BETHEL AIRPORT, AK US', 'BETTLES AIRPORT, AK US', 'MARY ISLAND, AK US', 'KOLIGANEK AIRPORT, AK US', 'RUSSIAN MISSION AIRPORT, AK US', 'ANCHORAGE LAKE HOOD SEA PLANE BASE, AK US', 'WRANGELL AIRPORT, AK US', 'HOMER SPIT, AK US', 'ELFIN COVE, AK US', 'DILLINGHAM AIRPORT, AK US', 'KALSKAG AIRPORT, AK US', 'POINT HOPE AIRPORT, AK US', 'UGNU KUPARUK AIRPORT, AK US', 'BARTLET COVE, AK US', 'HOONAH SEAPLANE BASE, AK US', 'GOLOVIN AIRPORT, AK US', 'CORDOVA, AK US', 'SELDOVIA AIRPORT, AK US', 'TANANA AIRPORT, AK US', 'NIKISKI AK, AK US', 'PORTAGE GLACIER VISITOR CENTER, AK US', 'NIKOLAI AIRPORT, AK US', 'PLATINUM AIRPORT, AK US', 'SEWARD AIRPORT, AK US', 'BOB BARKER MEMORIAL AIRPORT, AK US', 'FAIRBANKS INTERNATIONAL AIRPORT, AK US', 'ANCHORAGE ELMENDORF AFB, AK US', 'RED DOG, AK US', 'FORT YUKON, AK US', 'AMBLER AIRPORT, AK US', 'TATLINA AIRPORT, AK US', 'BUCKLAND AIRPORT, AK US', 'EIELSON FIELD, AK US', 'ADAK ISLAND, AK US', 'POINT RETREAT, AK US', 'JUNEAU AIRPORT, AK US', 'EGEGIK AIRPORT, AK US', 'SOUTH NAKNEK AIRPORT, AK US', 'RUBY AIRPORT, AK US', 'HOMER AIRPORT, AK US', 'WASILLA AIRPORT, AK US', 'DUTCH HARBOR, AK US', 'PORT ALEXANDER, AK US', 'SITKA AIRPORT, AK US', 'KETCHIKAN, AK US', 'SAVOONGA, AK US', 'KENAI AIRPORT, AK US', 'TENAKEE SPRINGS, AK US', 'SPARREVOHN MOUNTAIN AFS, AK US', 'MANOKOTAK AIRPORT, AK US', 'GALENA AIRPORT, AK US', 'BIRCHWOOD AIRPORT, AK US', 'CAPE LISBURNE AFS, AK US', 'POINT BISHOP, AK US', 'TOGIAK, AK US', 'TOKSOOK BAY AIRPORT, AK US', 'KING COVE, AK US', 'ST MICHAEL AIRPORT, AK US', 'ANGOON, AK US', 'SHAKTOOLIK AIRPORT, AK US', 'ELDRED ROCK, AK US', 'KETCHIKAN AIRPORT, AK US', 'MCGRATH AIRPORT, AK US', 'PROSPECT CREEK AIRPORT, AK US', 'NOATAK AIRPORT, AK US', 'METLAKATLA SEAPLANE BASE, AK US', 'JUNEAU, AK US', 'NUIQSUT AIRPORT, AK US', 'KLAWOCK AIRPORT, AK US', 'CAPE SPENCER, AK US', 'ROBERT BOB CURTIS MEMORIAL AIRPORT, AK US', 'AKHIOK, AK US', 'GALBRAITH LAKE AIRPORT, AK US', 'FLAT ISLAND LIGHT, AK US', 'MOUNTAIN VILLAGE AIRPORT, AK US', 'FAIRBANKS WAINWRIGHT ARMY AIR FIELD AIRPORT, AK US', 'ATKA AIRPORT, AK US', 'PORT ALSWORTH, AK US', 'TALKEETNA AIRPORT, AK US', 'ADAK AIRPORT, AK US', 'SOLDOTNA AIRPORT, AK US', 'KAKE AIRPORT, AK US', 'DEERING AIRPORT, AK US', 'SHEMYA AFB, AK US', 'GUSTAVUS, AK US', 'MCKINLEY NATIONAL PARK AIRPORT, AK US', 'WAINWRIGHT AIRPORT, AK US', 'BARROW AIRPORT, AK US', 'ICY BAY, AK US', 'GULKANA AIRPORT, AK US', 'SAND POINT, AK US', 'PORT HEIDEN AIRPORT, AK US', 'SLEETMUTE AIRPORT, AK US', 'WHITE MOUNTAIN, AK US', 'CAPE DECISION, AK US', 'POTATO POINT, AK US', 'CHEVAK AIRPORT, AK US', 'CAPE NEWENHAM AFS, AK US', 'CORDOVA AIRPORT, AK US', 'PALMER AIRPORT, AK US', 'SCAMMON BAY AIRPORT, AK US', 'BRYANT ARMY AIRFIELD HELIPORT, AK US', 'KALTAG AIRPORT, AK US', 'NEW STUYAHOK AIRPORT, AK US', 'VALDEZ, AK US', 'ELIM AIRPORT, AK US', 'BIG DELTA AIRPORT, AK US', 'KOTZEBUE AIRPORT, AK US', 'NOME NORTON SOUND, AK US', 'HYDABURG SEAPLANE BASE, AK US', 'ANVIK AIRPORT, AK US', 'POINT LAY, AK US', 'HAINES AIRPORT, AK US', 'INDIAN MOUNTAIN AFS, AK US', 'NORTHWAY AIRPORT, AK US', 'PUNTILLA, AK US', 'SHUNGNAK AIRPORT, AK US', 'KODIAK ISLAND, AK US', 'NENANA MUNICIPAL AIRPORT, AK US', 'QUINHAGAK AIRPORT, AK US', 'SKAGWAY AIRPORT, AK US', 'AUGUSTINE ISLAND, AK US', 'EUREKA SKELTON AIRPORT, AK US', 'SHISHMAREF AIRPORT, AK US', 'SOUTH DOUGLAS, AK US', 'ANCHORAGE MERRILL FIELD, AK US', 'MIDDLETON ISLAND, AK US', 'MARSHALL DON HUNTER SR AIRPORT, AK US', 'ATQASUK EDWARD BURNELL SR MEMORIAL AIRPORT, AK US', 'SISTERS ISLAND, AK US', 'NOME AIRPORT, AK US', 'HOLY CROSS, AK US']\n"
     ]
    }
   ],
   "source": [
    "test = generate_best_windmill_locations('AK US')\n",
    "print(test.iloc[0])\n",
    "print(len(test))\n",
    "print(list(set(test['STATION'])))"
   ]
  },
  {
   "cell_type": "code",
   "execution_count": 107,
   "metadata": {},
   "outputs": [],
   "source": [
    "import boto3\n",
    "\n",
    "def upload_dynamo_data(table_name, location):\n",
    "    dynamodb = boto3.resource('dynamodb', region_name='us-east-1')\n",
    "    best_locs = generate_best_windmill_locations(location)\n",
    "\n",
    "    # Reference the DynamoDB table\n",
    "    table = dynamodb.Table(table_name)\n",
    "\n",
    "    # Example data to be uploaded\n",
    "    data = []\n",
    "    for index, row in best_locs.iterrows():\n",
    "        data.append({'Station': row['STATION'], 'WDSP': row['WDSP'], 'MXSPD': row['MXSPD'], 'GUST': row['GUST']})\n",
    "\n",
    "    # Convert all float values to Decimal\n",
    "    data = [convert_to_decimal(item) for item in data]\n",
    "\n",
    "    # Upload data to DynamoDB table\n",
    "    for item in data:\n",
    "        table.put_item(Item=item)\n",
    "\n",
    "upload_dynamo_data('US-Wind-Data', 'US')\n",
    "\n",
    "# def get_dynamo_data(table_name, )"
   ]
  },
  {
   "cell_type": "code",
   "execution_count": 106,
   "metadata": {},
   "outputs": [
    {
     "name": "stdout",
     "output_type": "stream",
     "text": [
      "AL\n",
      "AK\n",
      "AZ\n",
      "AR\n",
      "CA\n",
      "CO\n",
      "CT\n",
      "DE\n",
      "FL\n",
      "GA\n",
      "HI\n",
      "ID\n",
      "IL\n",
      "IN\n",
      "IA\n",
      "KS\n",
      "KY\n",
      "LA\n",
      "ME\n",
      "MD\n",
      "MA\n",
      "MI\n",
      "MN\n",
      "MS\n",
      "MO\n",
      "MT\n",
      "NE\n",
      "NV\n",
      "NH\n",
      "NJ\n",
      "NM\n",
      "NY\n",
      "NC\n",
      "ND\n",
      "OH\n",
      "OK\n",
      "OR\n",
      "PA\n",
      "RI\n",
      "SC\n",
      "SD\n",
      "TN\n",
      "TX\n",
      "UT\n",
      "VT\n",
      "VA\n",
      "WA\n",
      "WV\n",
      "WI\n",
      "WY\n"
     ]
    }
   ],
   "source": [
    "\n",
    "# Initialize a session using Amazon DynamoDB\n",
    "dynamodb = boto3.resource('dynamodb', region_name='us-east-1')\n",
    "i = 0\n",
    "for state in state_codes:\n",
    "    print(state)\n",
    "    if i < 21:\n",
    "        i += 1\n",
    "        continue\n",
    "    best_locs = generate_best_windmill_locations(state + ' US')\n",
    "\n",
    "    # Reference the DynamoDB table\n",
    "    table = dynamodb.Table(state + '-Wind-Data')\n",
    "\n",
    "    # Example data to be uploaded\n",
    "    data = []\n",
    "    for index, row in best_locs.iterrows():\n",
    "        data.append({'Station': row['STATION'], 'WDSP': row['WDSP'], 'MXSPD': row['MXSPD'], 'GUST': row['GUST']})\n",
    "\n",
    "    # Convert all float values to Decimal\n",
    "    data = [convert_to_decimal(item) for item in data]\n",
    "\n",
    "    # Upload data to DynamoDB table\n",
    "    for item in data:\n",
    "        table.put_item(Item=item)"
   ]
  },
  {
   "cell_type": "code",
   "execution_count": null,
   "metadata": {},
   "outputs": [],
   "source": [
    "table_name = 'AZ-Wind-Data'  # Replace with your table name\n",
    "table = dynamodb.Table(table_name)\n",
    "\n",
    "# Check if the table exists\n",
    "existing_tables = dynamodb.meta.client.list_tables()['TableNames']\n",
    "if table_name not in existing_tables:\n",
    "    print(f\"Table '{table_name}' does not exist.\")"
   ]
  },
  {
   "cell_type": "code",
   "execution_count": 91,
   "metadata": {},
   "outputs": [
    {
     "name": "stdout",
     "output_type": "stream",
     "text": [
      "Item retrieved:\n",
      "{'MXSPD': Decimal('22'), 'WDSP': Decimal('10.8'), 'Station': 'LANCASTER, CA US', 'GUST': Decimal('28.9')}\n"
     ]
    }
   ],
   "source": [
    "from boto3.dynamodb.conditions import Key\n",
    "\n",
    "# Initialize a session using Amazon DynamoDB\n",
    "dynamodb = boto3.resource('dynamodb', region_name='us-east-1')\n",
    "\n",
    "table = dynamodb.Table('CA-Wind-Data')\n",
    "\n",
    "response = table.get_item(\n",
    "    Key={\n",
    "        'Station': 'LANCASTER, CA US'\n",
    "    }\n",
    ")\n",
    "\n",
    "# Print the item retrieved\n",
    "item = response.get('Item')\n",
    "if item:\n",
    "    print(\"Item retrieved:\")\n",
    "    print(item)\n",
    "else:\n",
    "    print(\"Item not found\")"
   ]
  },
  {
   "cell_type": "code",
   "execution_count": null,
   "metadata": {},
   "outputs": [],
   "source": []
  },
  {
   "cell_type": "code",
   "execution_count": null,
   "metadata": {},
   "outputs": [],
   "source": []
  },
  {
   "cell_type": "code",
   "execution_count": 21,
   "metadata": {},
   "outputs": [
    {
     "name": "stdout",
     "output_type": "stream",
     "text": [
      "['BRANSON WEST MUNICIPAL EMERSON FIELD AIRPORT, MO US']\n"
     ]
    }
   ],
   "source": [
    "print(list(set(test['NAME'])))"
   ]
  },
  {
   "cell_type": "code",
   "execution_count": 9,
   "metadata": {},
   "outputs": [
    {
     "name": "stdout",
     "output_type": "stream",
     "text": [
      "<HDF5 dataset \"Longitude\": shape (1644, 60), type \"<f4\">\n",
      "[[ -5.329755  -11.240461  -16.333044  ... -84.042366  -85.279755\n",
      "  -86.6727   ]\n",
      " [ -5.1514144 -11.110547  -16.250856  ... -84.32897   -85.558205\n",
      "  -86.941414 ]\n",
      " [ -4.968554  -10.976948  -16.165974  ... -84.61714   -85.838036\n",
      "  -87.211296 ]\n",
      " ...\n",
      " [ 29.278193   27.726763   26.332457  ... -50.64947   -57.69378\n",
      "  -65.80564  ]\n",
      " [ 28.967983   27.40267    25.996675  ... -50.51798   -57.463085\n",
      "  -65.47645  ]\n",
      " [ 28.658628   27.079678   25.66222   ... -50.391552  -57.240196\n",
      "  -65.15714  ]]\n"
     ]
    }
   ],
   "source": [
    "import h5py\n",
    "\n",
    "# Open the HDF5 file\n",
    "with h5py.File('OMI-Aura_L2-OMUVB_2020m1006t0308-o86310_v003-2020m1009t080256.he5?A-userid=tgallup&Expires=1719093021&Signature=GPZOY9Atxlam7FrNAxSaoJ6OWPcBHx1-V3fJkL-3eCd3OSJSJrAryoVLp~MwTV97BCld9-o78c6TzyB8dbothC7Pk~I~xEqmc58xxMLONiZiX-k5JinItS1PbDtl.h5', 'r') as f:\n",
    "    # Access datasets\n",
    "    dataset = f['HDFEOS/SWATHS/UVB/Geolocation Fields/Longitude']\n",
    "    print(dataset)\n",
    "    data = dataset[()]\n",
    "    print(data)"
   ]
  }
 ],
 "metadata": {
  "kernelspec": {
   "display_name": "Python 3",
   "language": "python",
   "name": "python3"
  },
  "language_info": {
   "codemirror_mode": {
    "name": "ipython",
    "version": 3
   },
   "file_extension": ".py",
   "mimetype": "text/x-python",
   "name": "python",
   "nbconvert_exporter": "python",
   "pygments_lexer": "ipython3",
   "version": "3.9.6"
  }
 },
 "nbformat": 4,
 "nbformat_minor": 2
}
